{
 "cells": [
  {
   "cell_type": "code",
   "execution_count": 1,
   "id": "5e8062d5-4a62-4975-8e4f-4b07494637c2",
   "metadata": {},
   "outputs": [],
   "source": [
    "import spacy\n",
    "from spacy import displacy\n",
    "import pandas as pd\n",
    "import numpy as np"
   ]
  },
  {
   "cell_type": "code",
   "execution_count": 3,
   "id": "d48f9f1e-139a-4104-b0e9-87afe1504fd2",
   "metadata": {},
   "outputs": [],
   "source": [
    "# Load spaCy model\n",
    "nlp = spacy.load(\"en_core_web_sm\")"
   ]
  },
  {
   "cell_type": "code",
   "execution_count": 5,
   "id": "e08c62c7-e5dd-44d6-ae2d-a93ab259208f",
   "metadata": {},
   "outputs": [],
   "source": [
    "# Sample Amazon reviews\n",
    "reviews = [\n",
    "    \"I love my new Apple iPhone 13 Pro Max. The camera quality is amazing!\",\n",
    "    \"Samsung Galaxy S21 has terrible battery life. Very disappointed.\",\n",
    "    \"The Sony headphones broke after just two weeks of use.\",\n",
    "    \"Microsoft Surface Pro is perfect for work and entertainment.\",\n",
    "    \"Google Pixel 6 has an incredible camera but poor battery performance.\"\n",
    "]\n",
    "\n"
   ]
  },
  {
   "cell_type": "code",
   "execution_count": 13,
   "id": "fe06c9aa-5d6f-47e9-906c-5aad0dfe7af3",
   "metadata": {},
   "outputs": [],
   "source": [
    "\n",
    "# NER and Sentiment Analysis\n",
    "def analyze_reviews(reviews):\n",
    "    results = []\n",
    "    \n",
    "    for review in reviews:\n",
    "        doc = nlp(review)\n",
    "        \n",
    "        # Extract entities\n",
    "        entities = [(ent.text, ent.label_) for ent in doc.ents]\n",
    "        \n",
    "        # Rule-based sentiment analysis\n",
    "        positive_words = ['love', 'amazing', 'perfect', 'incredible', 'good', 'great', 'excellent']\n",
    "        negative_words = ['terrible', 'disappointed', 'broke', 'poor', 'bad', 'awful']\n",
    "        \n",
    "        positive_score = sum(1 for token in doc if token.text.lower() in positive_words)\n",
    "        negative_score = sum(1 for token in doc if token.text.lower() in negative_words)\n",
    "        sentiment = \"positive\" if positive_score > negative_score else \"negative\" if negative_score > positive_score else \"neutral\"\n",
    "        \n",
    "        results.append({\n",
    "            'review': review,\n",
    "            'entities': entities,\n",
    "            'sentiment': sentiment,\n",
    "            'positive_words': positive_score,\n",
    "            'negative_words': negative_score\n",
    "        })\n",
    "    \n",
    "    return pd.DataFrame(results)\n",
    "        \n",
    "        "
   ]
  },
  {
   "cell_type": "code",
   "execution_count": 21,
   "id": "c1b52fc4-b7b0-4570-844a-58a118c4cf21",
   "metadata": {},
   "outputs": [
    {
     "name": "stdout",
     "output_type": "stream",
     "text": [
      "                                              review  \\\n",
      "0  I love my new Apple iPhone 13 Pro Max. The cam...   \n",
      "1  Samsung Galaxy S21 has terrible battery life. ...   \n",
      "2  The Sony headphones broke after just two weeks...   \n",
      "3  Microsoft Surface Pro is perfect for work and ...   \n",
      "4  Google Pixel 6 has an incredible camera but po...   \n",
      "\n",
      "                                entities sentiment  positive_words  \\\n",
      "0         [(Apple, ORG), (13, CARDINAL)]  positive               2   \n",
      "1            [(Samsung Galaxy S21, ORG)]  negative               0   \n",
      "2  [(Sony, ORG), (just two weeks, DATE)]  negative               0   \n",
      "3         [(Microsoft Surface Pro, ORG)]  positive               1   \n",
      "4                      [(Pixel, PERSON)]   neutral               1   \n",
      "\n",
      "   negative_words  \n",
      "0               0  \n",
      "1               2  \n",
      "2               1  \n",
      "3               0  \n",
      "4               1  \n"
     ]
    }
   ],
   "source": [
    "# Analyze reviews\n",
    "df_results = analyze_reviews(reviews)\n",
    "print(df_results)"
   ]
  },
  {
   "cell_type": "code",
   "execution_count": 19,
   "id": "8d5bc73c-dbd1-4c04-b9ba-9a34d1c99d51",
   "metadata": {},
   "outputs": [
    {
     "data": {
      "text/html": [
       "<span class=\"tex2jax_ignore\"><div class=\"entities\" style=\"line-height: 2.5; direction: ltr\">I love my new \n",
       "<mark class=\"entity\" style=\"background: #7aecec; padding: 0.45em 0.6em; margin: 0 0.25em; line-height: 1; border-radius: 0.35em;\">\n",
       "    Apple\n",
       "    <span style=\"font-size: 0.8em; font-weight: bold; line-height: 1; border-radius: 0.35em; vertical-align: middle; margin-left: 0.5rem\">ORG</span>\n",
       "</mark>\n",
       " iPhone \n",
       "<mark class=\"entity\" style=\"background: #e4e7d2; padding: 0.45em 0.6em; margin: 0 0.25em; line-height: 1; border-radius: 0.35em;\">\n",
       "    13\n",
       "    <span style=\"font-size: 0.8em; font-weight: bold; line-height: 1; border-radius: 0.35em; vertical-align: middle; margin-left: 0.5rem\">CARDINAL</span>\n",
       "</mark>\n",
       " Pro Max. The camera quality is amazing!</div></span>"
      ],
      "text/plain": [
       "<IPython.core.display.HTML object>"
      ]
     },
     "metadata": {},
     "output_type": "display_data"
    }
   ],
   "source": [
    "# Visualize NER for first review\n",
    "doc = nlp(reviews[0])\n",
    "displacy.render(doc, style=\"ent\", jupyter=True)"
   ]
  },
  {
   "cell_type": "code",
   "execution_count": null,
   "id": "4958df34-3350-4d0d-9f0c-df19e18cda3a",
   "metadata": {},
   "outputs": [],
   "source": []
  }
 ],
 "metadata": {
  "kernelspec": {
   "display_name": "Python [conda env:base] *",
   "language": "python",
   "name": "conda-base-py"
  },
  "language_info": {
   "codemirror_mode": {
    "name": "ipython",
    "version": 3
   },
   "file_extension": ".py",
   "mimetype": "text/x-python",
   "name": "python",
   "nbconvert_exporter": "python",
   "pygments_lexer": "ipython3",
   "version": "3.12.3"
  }
 },
 "nbformat": 4,
 "nbformat_minor": 5
}
